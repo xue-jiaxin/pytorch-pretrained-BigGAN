{
 "metadata": {
  "language_info": {
   "codemirror_mode": {
    "name": "ipython",
    "version": 3
   },
   "file_extension": ".py",
   "mimetype": "text/x-python",
   "name": "python",
   "nbconvert_exporter": "python",
   "pygments_lexer": "ipython3",
   "version": "3.8.5"
  },
  "orig_nbformat": 2,
  "kernelspec": {
   "name": "python385jvsc74a57bd0dca0ade3e726a953b501b15e8e990130d2b7799f14cfd9f4271676035ebe5511",
   "display_name": "Python 3.8.5 64-bit (conda)"
  }
 },
 "nbformat": 4,
 "nbformat_minor": 2,
 "cells": [
  {
   "cell_type": "code",
   "execution_count": 1,
   "metadata": {},
   "outputs": [
    {
     "output_type": "stream",
     "name": "stdout",
     "text": [
      "/Users/xuejiaxin/Dropbox/My Mac (Jiaxin的MacBook Pro)/Documents/GitHub/latent/pytorch-pretrained-BigGAN/same_class\n"
     ]
    }
   ],
   "source": [
    "cd \"./same_class/\""
   ]
  },
  {
   "cell_type": "code",
   "execution_count": 1,
   "metadata": {},
   "outputs": [
    {
     "output_type": "stream",
     "name": "stderr",
     "text": [
      "INFO:pytorch_pretrained_biggan.model:loading model biggan-deep-128 from cache at /Users/xuejiaxin/.pytorch_pretrained_biggan/6371c3777477e4e75187da1b9b526561aac3134f38c7299a3438009ae560e20d.3434ebdfa74a8c17e0e56061cfd905fa163c92f110e88df77b47da6ce9910b48\n",
      "INFO:pytorch_pretrained_biggan.model:Model config {\n",
      "  \"attention_layer_position\": 8,\n",
      "  \"channel_width\": 128,\n",
      "  \"class_embed_dim\": 128,\n",
      "  \"eps\": 0.0001,\n",
      "  \"layers\": [\n",
      "    [\n",
      "      false,\n",
      "      16,\n",
      "      16\n",
      "    ],\n",
      "    [\n",
      "      true,\n",
      "      16,\n",
      "      16\n",
      "    ],\n",
      "    [\n",
      "      false,\n",
      "      16,\n",
      "      16\n",
      "    ],\n",
      "    [\n",
      "      true,\n",
      "      16,\n",
      "      8\n",
      "    ],\n",
      "    [\n",
      "      false,\n",
      "      8,\n",
      "      8\n",
      "    ],\n",
      "    [\n",
      "      true,\n",
      "      8,\n",
      "      4\n",
      "    ],\n",
      "    [\n",
      "      false,\n",
      "      4,\n",
      "      4\n",
      "    ],\n",
      "    [\n",
      "      true,\n",
      "      4,\n",
      "      2\n",
      "    ],\n",
      "    [\n",
      "      false,\n",
      "      2,\n",
      "      2\n",
      "    ],\n",
      "    [\n",
      "      true,\n",
      "      2,\n",
      "      1\n",
      "    ]\n",
      "  ],\n",
      "  \"n_stats\": 51,\n",
      "  \"num_classes\": 1000,\n",
      "  \"output_dim\": 128,\n",
      "  \"z_dim\": 128\n",
      "}\n",
      "\n",
      "INFO:pytorch_pretrained_biggan.utils:Saving image to cat_target_0.png\n"
     ]
    }
   ],
   "source": [
    "%load_ext autoreload\n",
    "%autoreload 2\n",
    "\n",
    "# target image\n",
    "import torch\n",
    "from pytorch_pretrained_biggan import (BigGAN, one_hot_from_names, truncated_noise_sample,\n",
    "                                       save_as_images, display_in_terminal)\n",
    "import logging\n",
    "\n",
    "\n",
    "logging.basicConfig(level=logging.INFO)\n",
    "\n",
    "model = BigGAN.from_pretrained('biggan-deep-128')\n",
    "\n",
    "truncation = 0.5\n",
    "class_vector = one_hot_from_names([\"dog\"], batch_size=1)\n",
    "noise_vector = truncated_noise_sample(truncation=truncation, batch_size=1, seed = 10)\n",
    "\n",
    "noise_vector = torch.from_numpy(noise_vector)\n",
    "class_vector = torch.from_numpy(class_vector)\n",
    "\n",
    "\n",
    "with torch.no_grad():\n",
    "    output = model(noise_vector, class_vector, truncation)\n",
    "\n",
    "save_as_images(output, \"dog_target\")\n"
   ]
  },
  {
   "cell_type": "code",
   "execution_count": 18,
   "metadata": {},
   "outputs": [
    {
     "output_type": "stream",
     "name": "stderr",
     "text": [
      "  0%|          | 0/200 [00:00<?, ?it/s]INFO:pytorch_pretrained_biggan.utils:Saving image to dog2dog_0_0.png\n",
      "  2%|▎         | 5/200 [00:18<12:09,  3.74s/it]INFO:pytorch_pretrained_biggan.utils:Saving image to dog2dog_5_0.png\n",
      "  5%|▌         | 10/200 [00:37<11:03,  3.49s/it]INFO:pytorch_pretrained_biggan.utils:Saving image to dog2dog_10_0.png\n",
      "  8%|▊         | 15/200 [00:51<08:38,  2.80s/it]INFO:pytorch_pretrained_biggan.utils:Saving image to dog2dog_15_0.png\n",
      " 10%|█         | 20/200 [01:04<08:09,  2.72s/it]INFO:pytorch_pretrained_biggan.utils:Saving image to dog2dog_20_0.png\n",
      " 12%|█▎        | 25/200 [01:24<09:42,  3.33s/it]INFO:pytorch_pretrained_biggan.utils:Saving image to dog2dog_25_0.png\n",
      " 15%|█▌        | 30/200 [01:38<07:56,  2.80s/it]INFO:pytorch_pretrained_biggan.utils:Saving image to dog2dog_30_0.png\n",
      " 18%|█▊        | 35/200 [01:51<07:27,  2.71s/it]INFO:pytorch_pretrained_biggan.utils:Saving image to dog2dog_35_0.png\n",
      " 20%|██        | 40/200 [02:05<07:09,  2.69s/it]INFO:pytorch_pretrained_biggan.utils:Saving image to dog2dog_40_0.png\n",
      " 22%|██▎       | 45/200 [02:18<06:58,  2.70s/it]INFO:pytorch_pretrained_biggan.utils:Saving image to dog2dog_45_0.png\n",
      " 25%|██▌       | 50/200 [02:32<06:40,  2.67s/it]INFO:pytorch_pretrained_biggan.utils:Saving image to dog2dog_50_0.png\n",
      " 28%|██▊       | 55/200 [02:45<06:25,  2.66s/it]INFO:pytorch_pretrained_biggan.utils:Saving image to dog2dog_55_0.png\n",
      " 30%|███       | 60/200 [02:58<06:12,  2.66s/it]INFO:pytorch_pretrained_biggan.utils:Saving image to dog2dog_60_0.png\n",
      " 32%|███▎      | 65/200 [03:12<05:58,  2.65s/it]INFO:pytorch_pretrained_biggan.utils:Saving image to dog2dog_65_0.png\n",
      " 35%|███▌      | 70/200 [03:25<05:43,  2.64s/it]INFO:pytorch_pretrained_biggan.utils:Saving image to dog2dog_70_0.png\n",
      " 38%|███▊      | 75/200 [03:38<05:32,  2.66s/it]INFO:pytorch_pretrained_biggan.utils:Saving image to dog2dog_75_0.png\n",
      " 40%|████      | 80/200 [03:51<05:16,  2.64s/it]INFO:pytorch_pretrained_biggan.utils:Saving image to dog2dog_80_0.png\n",
      " 42%|████▎     | 85/200 [04:05<05:03,  2.64s/it]INFO:pytorch_pretrained_biggan.utils:Saving image to dog2dog_85_0.png\n",
      " 45%|████▌     | 90/200 [04:18<04:50,  2.64s/it]INFO:pytorch_pretrained_biggan.utils:Saving image to dog2dog_90_0.png\n",
      " 48%|████▊     | 95/200 [04:31<04:34,  2.62s/it]INFO:pytorch_pretrained_biggan.utils:Saving image to dog2dog_95_0.png\n",
      " 50%|█████     | 100/200 [04:44<04:25,  2.65s/it]INFO:pytorch_pretrained_biggan.utils:Saving image to dog2dog_100_0.png\n",
      " 52%|█████▎    | 105/200 [04:58<04:16,  2.70s/it]INFO:pytorch_pretrained_biggan.utils:Saving image to dog2dog_105_0.png\n",
      " 55%|█████▌    | 110/200 [05:11<04:01,  2.68s/it]INFO:pytorch_pretrained_biggan.utils:Saving image to dog2dog_110_0.png\n",
      " 57%|█████▊    | 115/200 [05:25<03:46,  2.67s/it]INFO:pytorch_pretrained_biggan.utils:Saving image to dog2dog_115_0.png\n",
      " 60%|██████    | 120/200 [05:38<03:32,  2.66s/it]INFO:pytorch_pretrained_biggan.utils:Saving image to dog2dog_120_0.png\n",
      " 62%|██████▎   | 125/200 [05:51<03:17,  2.63s/it]INFO:pytorch_pretrained_biggan.utils:Saving image to dog2dog_125_0.png\n",
      " 65%|██████▌   | 130/200 [06:04<03:05,  2.65s/it]INFO:pytorch_pretrained_biggan.utils:Saving image to dog2dog_130_0.png\n",
      " 68%|██████▊   | 135/200 [06:18<02:54,  2.68s/it]INFO:pytorch_pretrained_biggan.utils:Saving image to dog2dog_135_0.png\n",
      " 70%|███████   | 140/200 [06:31<02:40,  2.68s/it]INFO:pytorch_pretrained_biggan.utils:Saving image to dog2dog_140_0.png\n",
      " 72%|███████▎  | 145/200 [06:45<02:26,  2.66s/it]INFO:pytorch_pretrained_biggan.utils:Saving image to dog2dog_145_0.png\n",
      " 75%|███████▌  | 150/200 [06:58<02:13,  2.67s/it]INFO:pytorch_pretrained_biggan.utils:Saving image to dog2dog_150_0.png\n",
      " 78%|███████▊  | 155/200 [07:11<02:00,  2.67s/it]INFO:pytorch_pretrained_biggan.utils:Saving image to dog2dog_155_0.png\n",
      " 80%|████████  | 160/200 [07:25<01:46,  2.66s/it]INFO:pytorch_pretrained_biggan.utils:Saving image to dog2dog_160_0.png\n",
      " 82%|████████▎ | 165/200 [07:38<01:33,  2.67s/it]INFO:pytorch_pretrained_biggan.utils:Saving image to dog2dog_165_0.png\n",
      " 85%|████████▌ | 170/200 [07:51<01:19,  2.66s/it]INFO:pytorch_pretrained_biggan.utils:Saving image to dog2dog_170_0.png\n",
      " 88%|████████▊ | 175/200 [08:05<01:06,  2.64s/it]INFO:pytorch_pretrained_biggan.utils:Saving image to dog2dog_175_0.png\n",
      " 90%|█████████ | 180/200 [08:18<00:53,  2.68s/it]INFO:pytorch_pretrained_biggan.utils:Saving image to dog2dog_180_0.png\n",
      " 92%|█████████▎| 185/200 [08:31<00:39,  2.67s/it]INFO:pytorch_pretrained_biggan.utils:Saving image to dog2dog_185_0.png\n",
      " 95%|█████████▌| 190/200 [08:45<00:26,  2.67s/it]INFO:pytorch_pretrained_biggan.utils:Saving image to dog2dog_190_0.png\n",
      " 98%|█████████▊| 195/200 [08:58<00:13,  2.65s/it]INFO:pytorch_pretrained_biggan.utils:Saving image to dog2dog_195_0.png\n",
      "100%|██████████| 200/200 [09:11<00:00,  2.76s/it]\n"
     ]
    }
   ],
   "source": [
    "from torchvision.models import squeezenet1_0\n",
    "from tqdm import trange\n",
    "\n",
    "DEVICE = \"cuda\" if torch.cuda.is_available() else \"cpu\"\n",
    "model = model.eval().to(DEVICE)\n",
    "\n",
    "\n",
    "semantic_model = squeezenet1_0(pretrained=True).to(DEVICE)\n",
    "semantic_model.classifier = torch.nn.Sequential(\n",
    "    torch.nn.Flatten()\n",
    "    )\n",
    "semantic_model = semantic_model.eval()\n",
    "\n",
    "trunction = 0.5\n",
    "noise = truncated_noise_sample(truncation=truncation, batch_size=1, seed=9)\n",
    "noise = torch.nn.Parameter(torch.tensor(noise, requires_grad=True).float().to(DEVICE))\n",
    "noise_optim = torch.optim.Adam([noise], lr=0.05)\n",
    "\n",
    "class_vector = one_hot_from_names(['dog'], batch_size=1)\n",
    "class_vector = torch.from_numpy(class_vector)\n",
    "\n",
    "L = []\n",
    "L_pixel = []\n",
    "L_semantic = []\n",
    "\n",
    "for iteration in trange(0, 200):\n",
    "    noise_optim.zero_grad()\n",
    "\n",
    "    y_hat = model(noise, class_vector, truncation)\n",
    "\n",
    "    semantic_loss = -((semantic_model(y_hat) - semantic_model(output)) ** 2).mean() ** .5 #-cos_sim(semantic_model(y_hat), semantic_model(output))\n",
    "    L_semantic.append(semantic_loss.item())\n",
    "\n",
    "    pixel_loss = abs(y_hat - output).mean()\n",
    "    L_pixel.append(pixel_loss.item())\n",
    "\n",
    "    loss = semantic_loss + 30 * pixel_loss\n",
    "    L.append(loss.item())\n",
    "\n",
    "    loss.backward()\n",
    "    noise_optim.step()\n",
    "\n",
    "    if iteration % 2 == 0:\n",
    "        save_as_images(y_hat, f\"dog2dog_{iteration}\")"
   ]
  },
  {
   "cell_type": "code",
   "execution_count": 19,
   "metadata": {},
   "outputs": [
    {
     "output_type": "display_data",
     "data": {
      "text/plain": "<Figure size 432x288 with 1 Axes>",
      "image/png": "[encoded data removed]"
     },
     "metadata": {
      "needs_background": "light"
     }
    }
   ],
   "source": [
    "import matplotlib.pyplot as plt\n",
    "\n",
    "\n",
    "plt.plot(L)\n",
    "plt.plot([x*30 for x in L_pixel], 'r')\n",
    "plt.plot(L_semantic, 'b')\n",
    "\n",
    "plt.show()"
   ]
  },
  {
   "cell_type": "code",
   "execution_count": null,
   "metadata": {},
   "outputs": [],
   "source": []
  }
 ]
}